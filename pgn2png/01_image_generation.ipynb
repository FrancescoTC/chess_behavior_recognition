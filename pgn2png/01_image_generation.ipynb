{
  "cells": [
    {
      "cell_type": "code",
      "execution_count": 9,
      "metadata": {
        "colab": {
          "base_uri": "https://localhost:8080/"
        },
        "id": "a8DmGWN5SVRp",
        "outputId": "cfc09f69-2eb9-4665-a9a6-f6a5b643bcdd"
      },
      "outputs": [
        {
          "name": "stderr",
          "output_type": "stream",
          "text": [
            "Using the latest cached version of the dataset since ChessMoE/games couldn't be found on the Hugging Face Hub\n",
            "Found the latest cached dataset configuration 'Morphy' at /home/teo/.cache/huggingface/datasets/ChessMoE___games/Morphy/0.0.0/2752d417f8aa0372bfec4e2f9db38b8419768fd0 (last modified on Fri Dec 20 09:03:44 2024).\n",
            "Using the latest cached version of the dataset since ChessMoE/games couldn't be found on the Hugging Face Hub\n",
            "Found the latest cached dataset configuration 'Nakamura' at /home/teo/.cache/huggingface/datasets/ChessMoE___games/Nakamura/0.0.0/2752d417f8aa0372bfec4e2f9db38b8419768fd0 (last modified on Fri Dec 20 09:03:47 2024).\n"
          ]
        }
      ],
      "source": [
        "from datasets import load_dataset\n",
        "from huggingface_hub import login\n",
        "'''\n",
        "Hugging face token or login\n",
        "'''\n",
        "\n",
        "ds_morphy = load_dataset(\"ChessMoE/games\", \"Morphy\")\n",
        "ds_nakamura = load_dataset(\"ChessMoE/games\", \"Nakamura\")"
      ]
    },
    {
      "cell_type": "code",
      "execution_count": 10,
      "metadata": {
        "id": "Z7uQnQrVUZQ2"
      },
      "outputs": [],
      "source": [
        "from dataset_generator import dataset_convertor"
      ]
    },
    {
      "cell_type": "code",
      "execution_count": 11,
      "metadata": {
        "colab": {
          "base_uri": "https://localhost:8080/"
        },
        "id": "-zjEUBqGBOWJ",
        "outputId": "1fca51f0-c4b2-4ed6-f740-51e773b6ff9e"
      },
      "outputs": [
        {
          "name": "stdout",
          "output_type": "stream",
          "text": [
            "morphy\n",
            "1 out of 10\n",
            "2 out of 10\n",
            "3 out of 10\n",
            "4 out of 10\n",
            "5 out of 10\n",
            "6 out of 10\n",
            "7 out of 10\n",
            "8 out of 10\n",
            "9 out of 10\n",
            "10 out of 10\n",
            "morphy\n",
            "1 out of 10\n",
            "2 out of 10\n",
            "3 out of 10\n",
            "4 out of 10\n",
            "5 out of 10\n",
            "6 out of 10\n",
            "7 out of 10\n",
            "8 out of 10\n",
            "9 out of 10\n",
            "10 out of 10\n"
          ]
        }
      ],
      "source": [
        "dataset_convertor('morphy', 'data/Morphy/train', ds_morphy['train'].select(range(10)))\n",
        "dataset_convertor('morphy', 'data/Morphy/test', ds_morphy['test'].select(range(10)))"
      ]
    }
  ],
  "metadata": {
    "colab": {
      "provenance": []
    },
    "kernelspec": {
      "display_name": ".venv",
      "language": "python",
      "name": "python3"
    },
    "language_info": {
      "codemirror_mode": {
        "name": "ipython",
        "version": 3
      },
      "file_extension": ".py",
      "mimetype": "text/x-python",
      "name": "python",
      "nbconvert_exporter": "python",
      "pygments_lexer": "ipython3",
      "version": "3.11.2"
    }
  },
  "nbformat": 4,
  "nbformat_minor": 0
}
