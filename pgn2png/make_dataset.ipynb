{
 "cells": [
  {
   "cell_type": "code",
   "execution_count": 1,
   "metadata": {},
   "outputs": [
    {
     "name": "stdout",
     "output_type": "stream",
     "text": [
      "1.e4 e5 2.f4 exf4 3.Bc4 Qh4+ \n"
     ]
    }
   ],
   "source": [
    "from utils import get_move_number, extract_first_n_move\n",
    "\n",
    "# Example PGN string (simplified for demonstration)\n",
    "pgn_string = \"1.e4 e5 2.f4 exf4 3.Bc4 Qh4+ 4.Kf1 g5 5.Nc3 Bg7 6.d4 Nc6 7.Nf3 Qh5 8.Nd5 Kd8 9.c3 Nf6 10.Nxf6 Bxf6 11.e5 Bg7 12.h4 f6 13.Kg1 g4 14.Nh2 fxe5 15.Nxg4 exd4 16.Bxf4 Rf8 17.Bg5+ Ne7 18.Qe2 Re8 19.Ne5 Qxe2 20.Nf7+\"\n",
    "\n",
    "# Get the first 4 moves\n",
    "n = 3\n",
    "first_moves = extract_first_n_move(pgn_string, n, False)\n",
    "print(first_moves)"
   ]
  },
  {
   "cell_type": "code",
   "execution_count": 2,
   "metadata": {},
   "outputs": [
    {
     "name": "stderr",
     "output_type": "stream",
     "text": [
      "/home/teo/hdd_space/tesi/behavioral_recognition/datasets/git/chess_behavior_recognition/.venv/lib/python3.11/site-packages/tqdm/auto.py:21: TqdmWarning: IProgress not found. Please update jupyter and ipywidgets. See https://ipywidgets.readthedocs.io/en/stable/user_install.html\n",
      "  from .autonotebook import tqdm as notebook_tqdm\n"
     ]
    }
   ],
   "source": [
    "from dataset_generator import normalize_data, create_flat_imagefolder, load_chess_dataset"
   ]
  },
  {
   "cell_type": "code",
   "execution_count": 3,
   "metadata": {},
   "outputs": [
    {
     "name": "stdout",
     "output_type": "stream",
     "text": [
      "Dataset created at imagefolder_dataset/Morphy with train-test split.\n"
     ]
    }
   ],
   "source": [
    "base_directorys = [\"Morphy\"] #, \"Capablanca\", \"Kasparov\", \"Fischer\", \"Carlsen\", \"Nakamura\"]\n",
    "\n",
    "for base_directory in base_directorys:\n",
    "    normalized_dataset = normalize_data(\"data/\" + base_directory)\n",
    "    # Create train-test structure\n",
    "    output_directory = \"imagefolder_dataset/\" + base_directory\n",
    "    create_flat_imagefolder(normalized_dataset, output_directory)"
   ]
  }
 ],
 "metadata": {
  "kernelspec": {
   "display_name": ".venv",
   "language": "python",
   "name": "python3"
  },
  "language_info": {
   "codemirror_mode": {
    "name": "ipython",
    "version": 3
   },
   "file_extension": ".py",
   "mimetype": "text/x-python",
   "name": "python",
   "nbconvert_exporter": "python",
   "pygments_lexer": "ipython3",
   "version": "3.11.2"
  }
 },
 "nbformat": 4,
 "nbformat_minor": 2
}
