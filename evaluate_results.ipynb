{
 "cells": [
  {
   "cell_type": "code",
   "execution_count": 1,
   "metadata": {},
   "outputs": [
    {
     "data": {
      "text/html": [
       "<div>\n",
       "<style scoped>\n",
       "    .dataframe tbody tr th:only-of-type {\n",
       "        vertical-align: middle;\n",
       "    }\n",
       "\n",
       "    .dataframe tbody tr th {\n",
       "        vertical-align: top;\n",
       "    }\n",
       "\n",
       "    .dataframe thead th {\n",
       "        text-align: right;\n",
       "    }\n",
       "</style>\n",
       "<table border=\"1\" class=\"dataframe\">\n",
       "  <thead>\n",
       "    <tr style=\"text-align: right;\">\n",
       "      <th></th>\n",
       "      <th>predicted</th>\n",
       "      <th>real</th>\n",
       "    </tr>\n",
       "  </thead>\n",
       "  <tbody>\n",
       "    <tr>\n",
       "      <th>0</th>\n",
       "      <td>Carlsen</td>\n",
       "      <td>Capablanca</td>\n",
       "    </tr>\n",
       "    <tr>\n",
       "      <th>1</th>\n",
       "      <td>Nakamura</td>\n",
       "      <td>Morphy</td>\n",
       "    </tr>\n",
       "    <tr>\n",
       "      <th>2</th>\n",
       "      <td>Capablanca</td>\n",
       "      <td>Carlsen</td>\n",
       "    </tr>\n",
       "  </tbody>\n",
       "</table>\n",
       "</div>"
      ],
      "text/plain": [
       "    predicted        real\n",
       "0     Carlsen  Capablanca\n",
       "1    Nakamura      Morphy\n",
       "2  Capablanca     Carlsen"
      ]
     },
     "execution_count": 1,
     "metadata": {},
     "output_type": "execute_result"
    }
   ],
   "source": [
    "import pandas as pd\n",
    "\n",
    "df = pd.read_csv('llama_res.csv')\n",
    "df.head(3)"
   ]
  },
  {
   "cell_type": "code",
   "execution_count": 2,
   "metadata": {},
   "outputs": [],
   "source": [
    "from pandas import DataFrame\n",
    "\n",
    "def how_many_times(df: DataFrame, name: str):\n",
    "    print(name)\n",
    "    print(f\"How many times the master was predicted:\\t\\t{len(df[df['predicted'] == name])}\")\n",
    "    q = f'predicted == \"{name}\" and predicted == real'\n",
    "    print(f\"How many times the master was predicted successfully:\\t{len(df.query(q))}\")\n",
    "    print()"
   ]
  },
  {
   "cell_type": "code",
   "execution_count": 3,
   "metadata": {},
   "outputs": [],
   "source": [
    "def f1_score(df: DataFrame, name: str):\n",
    "    print(name)\n",
    "    \n",
    "    q = f'predicted == \"{name}\" and predicted == real'\n",
    "    tp = len(df.query(q))\n",
    "    print(f\"True Positive:\\t{tp}\")\n",
    "    \n",
    "    q = f'predicted == \"{name}\" and real != \"{name}\"'\n",
    "    fp = len(df.query(q))\n",
    "    print(f\"False Positive:\\t{fp}\")\n",
    "    \n",
    "    \n",
    "    q = f'predicted != \"{name}\" and real == \"{name}\"'\n",
    "    fn = len(df.query(q))\n",
    "    print(f\"False Negative:\\t{fn}\")\n",
    "    \n",
    "    precision = tp / (tp + fp)\n",
    "    print(f\"Precision:\\t{precision}\")\n",
    "    \n",
    "    recall = tp / (tp + fn)\n",
    "    print(f\"Recall:\\t\\t{recall}\")\n",
    "    \n",
    "    f1 = 2 * (precision * recall)/(precision + recall)\n",
    "    print(f\"F1:\\t\\t{f1}\")\n",
    "    \n",
    "    \n",
    "    "
   ]
  },
  {
   "cell_type": "code",
   "execution_count": 4,
   "metadata": {},
   "outputs": [
    {
     "name": "stdout",
     "output_type": "stream",
     "text": [
      "Morphy\n",
      "How many times the master was predicted:\t\t862\n",
      "How many times the master was predicted successfully:\t164\n",
      "\n",
      "Morphy\n",
      "True Positive:\t164\n",
      "False Positive:\t698\n",
      "False Negative:\t416\n",
      "Precision:\t0.1902552204176334\n",
      "Recall:\t\t0.2827586206896552\n",
      "F1:\t\t0.22746185852981968\n",
      "------------------------------------------------------------------\n",
      "Kasparov\n",
      "How many times the master was predicted:\t\t610\n",
      "How many times the master was predicted successfully:\t120\n",
      "\n",
      "Kasparov\n",
      "True Positive:\t120\n",
      "False Positive:\t490\n",
      "False Negative:\t460\n",
      "Precision:\t0.19672131147540983\n",
      "Recall:\t\t0.20689655172413793\n",
      "F1:\t\t0.20168067226890757\n",
      "------------------------------------------------------------------\n",
      "Capablanca\n",
      "How many times the master was predicted:\t\t530\n",
      "How many times the master was predicted successfully:\t91\n",
      "\n",
      "Capablanca\n",
      "True Positive:\t91\n",
      "False Positive:\t439\n",
      "False Negative:\t489\n",
      "Precision:\t0.17169811320754716\n",
      "Recall:\t\t0.15689655172413794\n",
      "F1:\t\t0.16396396396396398\n",
      "------------------------------------------------------------------\n",
      "Carlsen\n",
      "How many times the master was predicted:\t\t321\n",
      "How many times the master was predicted successfully:\t40\n",
      "\n",
      "Carlsen\n",
      "True Positive:\t40\n",
      "False Positive:\t281\n",
      "False Negative:\t540\n",
      "Precision:\t0.12461059190031153\n",
      "Recall:\t\t0.06896551724137931\n",
      "F1:\t\t0.08879023307436183\n",
      "------------------------------------------------------------------\n",
      "Fischer\n",
      "How many times the master was predicted:\t\t743\n",
      "How many times the master was predicted successfully:\t125\n",
      "\n",
      "Fischer\n",
      "True Positive:\t125\n",
      "False Positive:\t618\n",
      "False Negative:\t455\n",
      "Precision:\t0.16823687752355315\n",
      "Recall:\t\t0.21551724137931033\n",
      "F1:\t\t0.18896447467876037\n",
      "------------------------------------------------------------------\n",
      "Nakamura\n",
      "How many times the master was predicted:\t\t414\n",
      "How many times the master was predicted successfully:\t61\n",
      "\n",
      "Nakamura\n",
      "True Positive:\t61\n",
      "False Positive:\t353\n",
      "False Negative:\t519\n",
      "Precision:\t0.1473429951690821\n",
      "Recall:\t\t0.10517241379310345\n",
      "F1:\t\t0.1227364185110664\n",
      "------------------------------------------------------------------\n"
     ]
    }
   ],
   "source": [
    "masters = ['Morphy', 'Kasparov', 'Capablanca', 'Carlsen', 'Fischer', 'Nakamura']\n",
    "\n",
    "for m in masters:\n",
    "    how_many_times(df, m)\n",
    "    f1_score(df, m)\n",
    "    print('------------------------------------------------------------------')"
   ]
  },
  {
   "cell_type": "code",
   "execution_count": 39,
   "metadata": {},
   "outputs": [
    {
     "name": "stdout",
     "output_type": "stream",
     "text": [
      "Accuracy: 0.2111578727696428\n"
     ]
    }
   ],
   "source": [
    "print(f'Accuracy: {len(df.query(\"predicted == real\"))/ len(df)}')"
   ]
  }
 ],
 "metadata": {
  "kernelspec": {
   "display_name": ".venv",
   "language": "python",
   "name": "python3"
  },
  "language_info": {
   "codemirror_mode": {
    "name": "ipython",
    "version": 3
   },
   "file_extension": ".py",
   "mimetype": "text/x-python",
   "name": "python",
   "nbconvert_exporter": "python",
   "pygments_lexer": "ipython3",
   "version": "3.11.2"
  }
 },
 "nbformat": 4,
 "nbformat_minor": 2
}
